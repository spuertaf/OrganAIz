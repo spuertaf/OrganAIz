{
 "cells": [
  {
   "cell_type": "code",
   "execution_count": null,
   "id": "d826cc76",
   "metadata": {},
   "outputs": [
    {
     "name": "stdout",
     "output_type": "stream",
     "text": [
      "En esta ocasión desarrollaremos un agente que ayude en la gestión efectiva del tiempo, \n",
      " el mismo, medirá la “productividad” del usuario. Dicha “productividad” corresponde \n",
      " a la cantidad de tareas realizadas en un tiempo determinado. \n",
      " A su vez, el agente le recomendara al usuario acciones a tomar para un mayor provecho del tiempo.\n"
     ]
    }
   ],
   "source": [
    "print(\"En esta ocasión desarrollaremos un agente que ayude en la gestión efectiva del tiempo, \\\n",
    "      \\n el mismo, medirá la “productividad” del usuario. Dicha “productividad” corresponde \\\n",
    "      \\n a la cantidad de tareas realizadas en un tiempo determinado. \\\n",
    "      \\n A su vez, el agente le recomendara al usuario acciones a tomar para un mayor provecho del tiempo. \\\")"
   ]
  },
  {
   "cell_type": "code",
   "execution_count": 15,
   "id": "b0e5c68b",
   "metadata": {},
   "outputs": [
    {
     "name": "stdout",
     "output_type": "stream",
     "text": [
      "Como libería, pensamos utilizar MESA de python puesto que en la descripción de la librería \n",
      " nos indica que está orientado a horarios de agentes, por lo cual podríamos basarnos \n",
      " en algunos de los métodos que ya la librería implementa,  \n",
      " sin embargo, es posible que también utilicemos otras liberías como AgentPy \n",
      " puesto que en Mesa no estará todo lo que necesitamos \n"
     ]
    }
   ],
   "source": [
    "print(\"Como libería, pensamos utilizar MESA de python puesto que en la descripción de la librería \\\n",
    "      \\n nos indica que está orientado a horarios de agentes, por lo cual podríamos basarnos \\\n",
    "      \\n en algunos de los métodos que ya la librería implementa,  \\\n",
    "      \\n sin embargo, es posible que también utilicemos otras liberías como AgentPy \\\n",
    "      \\n puesto que en Mesa no estará todo lo que necesitamos \")"
   ]
  },
  {
   "cell_type": "code",
   "execution_count": 21,
   "id": "83c10654",
   "metadata": {
    "tags": []
   },
   "outputs": [
    {
     "name": "stdout",
     "output_type": "stream",
     "text": [
      "Estas son las importaciones de las librerías que utilizaremos:\n",
      "from mesa import Agent, Model\n",
      "from mesa.time import RandomActivation\n",
      "from mesa.space import MultiGrid\n",
      "import agentpy as ap\n",
      "import ipysimulate as ips\n",
      "from ipywidgets import AppLayout\n",
      "from agentpy.examples import WealthModel, SegregationModel\n"
     ]
    }
   ],
   "source": [
    "print(\"Estas son las importaciones de las librerías que utilizaremos:\")\n",
    "print(\"from mesa import Agent, Model\")\n",
    "print(\"from mesa.time import RandomActivation\")\n",
    "print(\"from mesa.space import MultiGrid\")\n",
    "print(\"import agentpy as ap\")\n",
    "print(\"import ipysimulate as ips\")\n",
    "print(\"from ipywidgets import AppLayout\")\n",
    "print(\"from agentpy.examples import WealthModel, SegregationModel\")\n"
   ]
  },
  {
   "cell_type": "code",
   "execution_count": 20,
   "id": "765eef36",
   "metadata": {
    "scrolled": true,
    "tags": []
   },
   "outputs": [],
   "source": [
    "#definamos la estructura más básica de nuestro agente\n",
    "#la cual podrá ir creciendo según se definan nuevas características\n",
    "\n",
    "class ScheduleAgent:\n",
    "  def __init__(self, name, age, gender, dailyTask, comments):\n",
    "    self.name = name\n",
    "    self.age = age\n",
    "    self.gender = gender\n",
    "    self.dailyTask = dailyTask\n",
    "    self.notification = notification\n",
    "    self.comments = comments"
   ]
  },
  {
   "cell_type": "code",
   "execution_count": null,
   "id": "412b1e00",
   "metadata": {},
   "outputs": [],
   "source": [
    "class Task:\n",
    "    def __init__(self, id, name, avgTime, urgency):\n",
    "        self.id=id\n",
    "        self.name=name\n",
    "        self.avgTime=avgTime\n",
    "        self.urgency=urgency\n",
    "        "
   ]
  },
  {
   "cell_type": "code",
   "execution_count": null,
   "id": "852dcd51-c964-4b0b-a4c7-88fa50735715",
   "metadata": {},
   "outputs": [],
   "source": [
    "# pip install anytree\n",
    "from anytree import NodeMixin, RenderTree\n",
    "\n",
    "class TaskClass(Task, NodeMixin):  # Add Node feature\n",
    "...     def __init__(self, name, avgTime, urgency, parent=None, children=None):\n",
    "...         super(Task, self).__init__()\n",
    "...         self.name = name\n",
    "...         self.avgTime = avgTime\n",
    "...         self.urgency = urgency\n",
    "...         self.parent = parent\n",
    "...         if children:\n",
    "...             self.children = children\n",
    "\n",
    "taskRoot = TaskClass('root', 1, 1)\n",
    "task1 = TaskClass('my1', 1, 0, parent=taskRoot)"
   ]
  },
  {
   "cell_type": "code",
   "execution_count": null,
   "id": "46c2e7ac-7da7-4fd8-8980-69612ed2e058",
   "metadata": {},
   "outputs": [],
   "source": [
    "# metodo 1 de grafos\n",
    "# pip install anytree\n",
    "from anytree import NodeMixin, RenderTree\n",
    "\n",
    "class TaskClass(Task, NodeMixin):  # Add Node feature\n",
    "...     def __init__(self, name, avgTime, urgency, parent=None, children=None):\n",
    "...         super(MyClass, self).__init__()\n",
    "...         self.name = name\n",
    "...         self.avgTime = avgTime\n",
    "...         self.urgency = urgency\n",
    "...         self.parent = parent\n",
    "...         if children:\n",
    "...             self.children = children\n",
    "\n",
    "taskRoot = TaskClass('root', 1, 1)\n",
    "task1 = TaskClass('my1', 1, 0, parent=taskRoot)"
   ]
  },
  {
   "cell_type": "code",
   "execution_count": null,
   "id": "f95c16d3-7b24-48ab-811b-f136720b91b2",
   "metadata": {},
   "outputs": [],
   "source": [
    "# metodo 2 de grafos \"hechos a mano\"\n",
    "\n",
    "class Node():\n",
    "    def __init__(self, value):\n",
    "        self.value = value\n",
    "        self.left = None\n",
    "        self.right = None\n",
    "        \n",
    "class Choice():\n",
    "    def __init__(self, move, value):\n",
    "        self.move = move\n",
    "        self.value = value\n",
    "\n",
    "    def __str__(self):\n",
    "        return self.move + \": \" + str(self.value)\n",
    "    \n",
    "# root\n",
    "root = Node(None)\n",
    "root.left = body2_1\n",
    "root.right = body2_2\n",
    "\n",
    "# 2nd layer\n",
    "body2_1 = Node(-2)\n",
    "body2_1.left = body3_1\n",
    "body2_1.right = body3_2\n",
    "\n",
    "body2_2 = Node(10)\n",
    "body2_2.left = body3_3\n",
    "\n",
    "# 3rd layer\n",
    "body3_1 = Node(3)\n",
    "body3_1.left = leaf1\n",
    "body3_1.right = leaf2\n",
    "\n",
    "body3_2 = Node(20)\n",
    "body3_2.left = leaf3\n",
    "body3_2.right = leaf4\n",
    "\n",
    "body3_3 = Node(-8)\n",
    "body3_3.left = leaf5\n",
    "body3_3.right = leaf6\n",
    "\n",
    "\n",
    "# 4th layer\n",
    "leaf1 = Node(-8)\n",
    "leaf2 = Node(7)\n",
    "leaf3 = Node(15)\n",
    "leaf4 = Node(14)\n",
    "leaf5 = Node(8)\n",
    "leaf6 = Node(-5)\n",
    "\n",
    "\n",
    "def minimax(node, is_max):    \n",
    "    # base case, if no sub nodes, return the value\n",
    "    if (node.left is None and node.right is None):\n",
    "        return Choice(\"end\", node.value)\n",
    "\n",
    "    # if child nodes exist, run minimax on each child nodes\n",
    "    l_choice = minimax(node.left, not is_max)\n",
    "    r_choice = minimax(node.right, not is_max)\n",
    "    \n",
    "    # compare results\n",
    "    if (is_max):\n",
    "        if (l_choice.value > r_choice.value):\n",
    "            return Choice(\"left\", l_choice.value)\n",
    "        else:\n",
    "            return Choice(\"right\", r_choice.value)\n",
    "    else:\n",
    "        if (l_choice.value < r_choice.value):\n",
    "            return Choice(\"left\", l_choice.value)\n",
    "        else:\n",
    "            return Choice(\"right\", r_choice.value)\n",
    "        \n",
    "        \n",
    "# run core programmmm\n",
    "\n",
    "# initialize our state\n",
    "current_node = root\n",
    "is_max = True\n",
    "\n",
    "\n",
    "while (True):\n",
    "    # run minimax on current node\n",
    "    choice = minimax(current_node, is_max)\n",
    "    \n",
    "    # make choice based on minimax search\n",
    "    if (choice.move == \"left\"):\n",
    "        print (\"Moving left to node with value \" + str(current_node.left.value))\n",
    "        current_node = current_node.left\n",
    "    elif (choice.move == \"right\"):\n",
    "        print (\"Moving right to node with value \" + str(current_node.right.value))\n",
    "        current_node = current_node.right\n",
    "    elif (choice.move == \"end\"):\n",
    "        print (\"Game ends with a score of \" + str(choice.value))\n",
    "        break\n",
    "    \n",
    "    \n"
   ]
  }
 ],
 "metadata": {
  "kernelspec": {
   "display_name": "anaconda-2022.05-py39",
   "language": "python",
   "name": "conda-env-anaconda-2022.05-py39-py"
  },
  "language_info": {
   "codemirror_mode": {
    "name": "ipython",
    "version": 3
   },
   "file_extension": ".py",
   "mimetype": "text/x-python",
   "name": "python",
   "nbconvert_exporter": "python",
   "pygments_lexer": "ipython3",
   "version": "3.9.12"
  }
 },
 "nbformat": 4,
 "nbformat_minor": 5
}
