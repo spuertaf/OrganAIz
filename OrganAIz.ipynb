{
 "cells": [
  {
   "cell_type": "code",
   "execution_count": 2,
   "id": "d826cc76",
   "metadata": {},
   "outputs": [
    {
     "name": "stdout",
     "output_type": "stream",
     "text": [
      "En esta ocasión desarrollaremos un agente que ayude en la gestión efectiva del tiempo       \n",
      " el mismo, medirá la “productividad” del usuario. Dicha “productividad” corresponde       \n",
      " a la cantidad de tareas realizadas en un tiempo determinado.       \n",
      " A su vez, el agente le recomendara al usuario acciones a tomar para un mayor provecho del tiempo.\n"
     ]
    }
   ],
   "source": [
    "print(\"En esta ocasión desarrollaremos un agente que ayude en la gestión efectiva del tiempo \\\n",
    "      \\n el mismo, medirá la “productividad” del usuario. Dicha “productividad” corresponde \\\n",
    "      \\n a la cantidad de tareas realizadas en un tiempo determinado. \\\n",
    "      \\n A su vez, el agente le recomendara al usuario acciones a tomar para un mayor provecho del tiempo.\")"
   ]
  },
  {
   "cell_type": "code",
   "execution_count": 3,
   "id": "b0e5c68b",
   "metadata": {},
   "outputs": [
    {
     "name": "stdout",
     "output_type": "stream",
     "text": [
      "Como libería, pensamos utilizar MESA de python puesto que en la descripción de la librería       \n",
      " nos indica que está orientado a horarios de agentes, por lo cual podríamos basarnos       \n",
      " en algunos de los métodos que ya la librería implementa,        \n",
      " sin embargo, es posible que también utilicemos otras liberías como AgentPy       \n",
      " puesto que en Mesa no estará todo lo que necesitamos \n"
     ]
    }
   ],
   "source": [
    "print(\"Como libería, pensamos utilizar MESA de python puesto que en la descripción de la librería \\\n",
    "      \\n nos indica que está orientado a horarios de agentes, por lo cual podríamos basarnos \\\n",
    "      \\n en algunos de los métodos que ya la librería implementa,  \\\n",
    "      \\n sin embargo, es posible que también utilicemos otras liberías como AgentPy \\\n",
    "      \\n puesto que en Mesa no estará todo lo que necesitamos \")"
   ]
  },
  {
   "cell_type": "code",
   "execution_count": 14,
   "id": "83c10654",
   "metadata": {
    "tags": []
   },
   "outputs": [
    {
     "name": "stdout",
     "output_type": "stream",
     "text": [
      "Estas son las importaciones de las librerías orientadas a IA que utilizaremos:\n",
      "mesa, agentpy, ipysimulate\n",
      "Usaremos además otras librerías auxiliares, cómo:\n",
      "numpy, pandas, anytree\n"
     ]
    }
   ],
   "source": [
    "print(\"Estas son las importaciones de las librerías orientadas a IA que utilizaremos:\")\n",
    "print(\"mesa, agentpy, ipysimulate\")\n",
    "print(\"Usaremos además otras librerías auxiliares, cómo:\")\n",
    "print(\"numpy, pandas, anytree\")\n",
    "\n",
    "import numpy\n",
    "import mesa\n",
    "import agentpy\n",
    "import ipysimulate\n",
    "import ipywidgets\n",
    "import pandas as pd\n",
    "from anytree import NodeMixin, RenderTree"
   ]
  },
  {
   "cell_type": "code",
   "execution_count": 5,
   "id": "765eef36",
   "metadata": {
    "scrolled": true,
    "tags": []
   },
   "outputs": [],
   "source": [
    "#definamos la estructura más básica de nuestro agente\n",
    "#la cual podrá ir creciendo según se definan nuevas características\n",
    "\n",
    "class ScheduleAgent:\n",
    "  def __init__(self, name, age, gender, dailyTask, comments):\n",
    "    self.name = name\n",
    "    self.age = age\n",
    "    self.gender = gender\n",
    "    self.dailyTask = dailyTask\n",
    "    self.notification = comments\n",
    "    self.comments = comments\n",
    "\n",
    "taskList = pd.read_csv('taskList.csv')\n",
    "comentarios = \"\"\n",
    "\n",
    "my_Agent = ScheduleAgent(\"Pepito\", \"20\", \"Masculino\", taskList, comentarios)"
   ]
  },
  {
   "cell_type": "code",
   "execution_count": 6,
   "id": "852dcd51-c964-4b0b-a4c7-88fa50735715",
   "metadata": {},
   "outputs": [],
   "source": [
    "# Estructura del árbol con el uso de la librería anytree\n",
    "# pip install anytree\n",
    "\n",
    "class Task:\n",
    "    def __init__(self, id, name, avgTime, urgency):\n",
    "        self.id=id\n",
    "        self.name=name\n",
    "        self.avgTime=avgTime\n",
    "        self.urgency=urgency\n",
    "    \n",
    "    def __str__(self):\n",
    "        return f\"Name: {self.name}, AvgTime: {self.avgTime}, Urgency: {self.urgency}\"\n",
    "\n",
    "class TaskClass(Task, NodeMixin):  # Add Node feature\n",
    "    def __init__(self, name, avgTime, urgency, parent=None, children=None):\n",
    "        super(Task, self).__init__()\n",
    "        self.name = name\n",
    "        self.avgTime = avgTime\n",
    "        self.urgency = urgency\n",
    "        self.parent = parent\n",
    "        if children:\n",
    "            self.children = children"
   ]
  },
  {
   "cell_type": "code",
   "execution_count": 7,
   "id": "4c0f2b79",
   "metadata": {},
   "outputs": [],
   "source": [
    "def getNodesList(taskList:pd.DataFrame) -> list:\n",
    "    nodeList = []\n",
    "    for i in range(0, len(taskList[\"Name\"])):\n",
    "        nodeList.append(TaskClass(\n",
    "            name = taskList[\"Name\"][i],\n",
    "            avgTime = taskList[\"AvgTime\"][i],\n",
    "            urgency = taskList[\"Urgency\"][i]\n",
    "        ))\n",
    "    return nodeList\n",
    "\n",
    "\n",
    "\n",
    "def setParentNodes(taskList:pd.DataFrame, nodeList:list) -> TaskClass:\n",
    "    for i in range(1, len(nodeList)):\n",
    "        node = nodeList[i]\n",
    "        node.parent = nodeList[(int(taskList[\"Parent\"][i]))-1]\n",
    "    return nodeList[0] #retorno root del arbol ya que desde root lo puedo recorrer todo\n",
    "\n",
    "\n",
    "\n",
    "def buildTree(taskList:pd.DataFrame) -> TaskClass: #construccion del arbol por medio de archivo CSV\n",
    "    nodeList = getNodesList(taskList)\n",
    "    rootNode = setParentNodes(taskList, nodeList)\n",
    "    return rootNode"
   ]
  },
  {
   "cell_type": "code",
   "execution_count": 8,
   "id": "fb375522",
   "metadata": {},
   "outputs": [],
   "source": [
    "def printTree(rootNode: TaskClass) -> None:\n",
    "    for pre, fill, node in RenderTree(rootNode):\n",
    "        print(\"%s%s\" % (pre, node.name))    "
   ]
  },
  {
   "cell_type": "code",
   "execution_count": 9,
   "id": "e53e9a7a",
   "metadata": {},
   "outputs": [
    {
     "name": "stdout",
     "output_type": "stream",
     "text": [
      "desayunar\n",
      "├── bañarse\n",
      "│   ├── hacer la tarea\n",
      "│   │   ├── almorzar\n",
      "│   │   └── hacer ejercicio\n",
      "│   └── estudiar para el parcial\n",
      "│       ├── escuchar musica\n",
      "│       └── leer documentacion\n",
      "└── sacar al perro\n",
      "    ├── hacer estiramientos\n",
      "    │   ├── ver netflix\n",
      "    │   └── reunirse con amigos\n",
      "    └── regar plantas\n",
      "        ├── ordenar el cuarto\n",
      "        └── jugar con el perro\n"
     ]
    }
   ],
   "source": [
    "task_df = pd.read_csv('taskList.csv') \n",
    "task_tree = buildTree(task_df)\n",
    "\n",
    "# print(task_df)\n",
    "printTree(task_tree)"
   ]
  },
  {
   "cell_type": "code",
   "execution_count": 10,
   "id": "4d85993f",
   "metadata": {},
   "outputs": [
    {
     "name": "stdout",
     "output_type": "stream",
     "text": [
      "task tree: Name: desayunar, AvgTime: 40, Urgency: 5\n",
      "task tree.name: desayunar\n",
      "task tree.children: (<__main__.TaskClass object at 0x00000131B5DD2A50>, <__main__.TaskClass object at 0x00000131B5DD2E50>)\n",
      "task tree.children left: Name: bañarse, AvgTime: 45, Urgency: 2\n",
      "task tree.children right: Name: sacar al perro, AvgTime: 30, Urgency: 5\n",
      "<class 'tuple'>\n",
      "task tree.height: 3\n",
      "task tree.root: Name: desayunar, AvgTime: 40, Urgency: 5\n",
      "task tree.children left name: bañarse\n",
      "task tree.children left name: Name: hacer la tarea, AvgTime: 60, Urgency: 7\n"
     ]
    }
   ],
   "source": [
    "# Diferentes formas de imprimir nuestros datos con anytree\n",
    "print(\"task tree: \" + str(task_tree))\n",
    "print(\"task tree.name: \" + task_tree.name)\n",
    "print(\"task tree.children: \" + str(task_tree.children))\n",
    "print(\"task tree.children left: \" + str(task_tree.children[0])) #IZQ\n",
    "print(\"task tree.children right: \" + str(task_tree.children[1])) #DER\n",
    "print(type(task_tree.children))\n",
    "print(\"task tree.height: \" + str(task_tree.height))\n",
    "print(\"task tree.root: \" + str(task_tree.root))\n",
    "print(\"task tree.children left name: \" + str(task_tree.children[0].name)) #IZQ\n",
    "print(\"task tree.children left name: \" + str(task_tree.children[0].children[0])) #IZQ"
   ]
  },
  {
   "cell_type": "code",
   "execution_count": 13,
   "id": "fbd9c5c5",
   "metadata": {},
   "outputs": [
    {
     "name": "stdout",
     "output_type": "stream",
     "text": [
      "Nos movemos a la derecha con una urgencia de: 5\n",
      "Nos movemos a la derecha con una urgencia de: 7\n",
      "Nos movemos a la derecha con una urgencia de: 6\n",
      "La urgencia del último nodo hoja es: 6\n"
     ]
    }
   ],
   "source": [
    "# Valores iniciales\n",
    "current_node = task_tree\n",
    "is_max = True\n",
    "\n",
    "class Choice():\n",
    "    def __init__(self, move, urgency):\n",
    "        self.move = move\n",
    "        self.urgency = urgency\n",
    "\n",
    "    def __str__(self):\n",
    "        return self.move + \": \" + str(self.urgency)\n",
    "\n",
    "\n",
    "# Algoritmo minimax\n",
    "def miniMax(rootNode, isMax):\n",
    "    children = rootNode.children\n",
    "    try:\n",
    "        l_choice = miniMax(children[0], not isMax)\n",
    "        r_choice = miniMax(children[1], not isMax)\n",
    "\n",
    "        if (isMax):\n",
    "            if (l_choice.urgency > r_choice.urgency):\n",
    "                return Choice(\"left\", l_choice.urgency)\n",
    "            else:\n",
    "                return Choice(\"right\", r_choice.urgency)\n",
    "        else:\n",
    "            if (l_choice.urgency < r_choice.urgency):\n",
    "                return Choice(\"left\", l_choice.urgency)\n",
    "            else:\n",
    "                return Choice(\"right\", r_choice.urgency) \n",
    "    except IndexError:\n",
    "        return Choice(\"end\", rootNode.urgency)\n",
    "\n",
    "# Ciclo principal de ejecución\n",
    "while (True):\n",
    "    # run minimax on current node\n",
    "    choice = miniMax(current_node, is_max)\n",
    "    \n",
    "    # make choice based on minimax search\n",
    "    if (choice.move == \"left\"):\n",
    "        print (\"Nos movemos a la izquierda con una urgencia de: \" + str(current_node.children[0].urgency))\n",
    "        current_node = current_node.children[0]\n",
    "    elif (choice.move == \"right\"):\n",
    "        print (\"Nos movemos a la derecha con una urgencia de: \" + str(current_node.children[1].urgency))\n",
    "        current_node = current_node.children[1]\n",
    "    elif (choice.move == \"end\"):\n",
    "        print (\"La urgencia del último nodo hoja es: \" + str(choice.urgency))\n",
    "        break\n",
    "    "
   ]
  },
  {
   "cell_type": "code",
   "execution_count": null,
   "id": "c617ee47",
   "metadata": {},
   "outputs": [
    {
     "name": "stdout",
     "output_type": "stream",
     "text": [
      "right: 4\n"
     ]
    }
   ],
   "source": [
    "rootNode = buildTree(my_Agent.dailyTask) #contruccion del arbol\n",
    "i = 10\n",
    "while (i < 10):\n",
    "    choice = miniMax(rootNode, True)\n",
    "print(choice)\n"
   ]
  }
 ],
 "metadata": {
  "kernelspec": {
   "display_name": "Python 3",
   "language": "python",
   "name": "python3"
  },
  "language_info": {
   "codemirror_mode": {
    "name": "ipython",
    "version": 3
   },
   "file_extension": ".py",
   "mimetype": "text/x-python",
   "name": "python",
   "nbconvert_exporter": "python",
   "pygments_lexer": "ipython3",
   "version": "3.11.2"
  },
  "vscode": {
   "interpreter": {
    "hash": "26191ae7fd6e347d1981338b93f2dabb077a01af3aa9be830bf3c29ed66a6aff"
   }
  }
 },
 "nbformat": 4,
 "nbformat_minor": 5
}
