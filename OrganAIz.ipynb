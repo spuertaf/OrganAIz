{
 "cells": [
  {
   "cell_type": "code",
   "execution_count": 20,
   "id": "d826cc76",
   "metadata": {},
   "outputs": [
    {
     "name": "stdout",
     "output_type": "stream",
     "text": [
      "En esta ocasión desarrollaremos un agente que ayude en la gestión efectiva del tiempo       \n",
      " el mismo, medirá la “productividad” del usuario. Dicha “productividad” corresponde       \n",
      " a la cantidad de tareas realizadas en un tiempo determinado.       \n",
      " A su vez, el agente le recomendara al usuario acciones a tomar para un mayor provecho del tiempo.\n"
     ]
    }
   ],
   "source": [
    "print(\"En esta ocasión desarrollaremos un agente que ayude en la gestión efectiva del tiempo \\\n",
    "      \\n el mismo, medirá la “productividad” del usuario. Dicha “productividad” corresponde \\\n",
    "      \\n a la cantidad de tareas realizadas en un tiempo determinado. \\\n",
    "      \\n A su vez, el agente le recomendara al usuario acciones a tomar para un mayor provecho del tiempo.\")"
   ]
  },
  {
   "cell_type": "code",
   "execution_count": 21,
   "id": "b0e5c68b",
   "metadata": {},
   "outputs": [
    {
     "name": "stdout",
     "output_type": "stream",
     "text": [
      "Como libería, pensamos utilizar MESA de python puesto que en la descripción de la librería       \n",
      " nos indica que está orientado a horarios de agentes, por lo cual podríamos basarnos       \n",
      " en algunos de los métodos que ya la librería implementa,        \n",
      " sin embargo, es posible que también utilicemos otras liberías como AgentPy       \n",
      " puesto que en Mesa no estará todo lo que necesitamos \n"
     ]
    }
   ],
   "source": [
    "print(\"Como libería, pensamos utilizar MESA de python puesto que en la descripción de la librería \\\n",
    "      \\n nos indica que está orientado a horarios de agentes, por lo cual podríamos basarnos \\\n",
    "      \\n en algunos de los métodos que ya la librería implementa,  \\\n",
    "      \\n sin embargo, es posible que también utilicemos otras liberías como AgentPy \\\n",
    "      \\n puesto que en Mesa no estará todo lo que necesitamos \")"
   ]
  },
  {
   "cell_type": "code",
   "execution_count": 46,
   "id": "83c10654",
   "metadata": {
    "tags": []
   },
   "outputs": [
    {
     "name": "stdout",
     "output_type": "stream",
     "text": [
      "Estas son las importaciones de las librerías que utilizaremos:\n"
     ]
    }
   ],
   "source": [
    "print(\"Estas son las importaciones de las librerías que utilizaremos:\")\n",
    "\n",
    "#Importaciones\n",
    "\n",
    "import numpy\n",
    "from mesa import Agent, Model\n",
    "from mesa.space import MultiGrid\n",
    "import agentpy as ap\n",
    "import ipysimulate as ips\n",
    "import ipysimulate as ips\n",
    "from agentpy.examples import WealthModel, SegregationModel\n",
    "import pandas as pd\n",
    "from anytree import NodeMixin, RenderTree\n",
    "from pprint import pprint as pp\n",
    "import inspect"
   ]
  },
  {
   "cell_type": "code",
   "execution_count": 6,
   "id": "765eef36",
   "metadata": {
    "scrolled": true,
    "tags": []
   },
   "outputs": [],
   "source": [
    "#definamos la estructura más básica de nuestro agente\n",
    "#la cual podrá ir creciendo según se definan nuevas características\n",
    "\n",
    "class ScheduleAgent:\n",
    "  def __init__(self, name, age, gender, dailyTask, comments):\n",
    "    self.name = name\n",
    "    self.age = age\n",
    "    self.gender = gender\n",
    "    self.dailyTask = dailyTask\n",
    "    self.notification = comments\n",
    "    self.comments = comments\n",
    "\n",
    "taskList = pd.read_csv('taskList.csv')\n",
    "comentarios = \"\"\n",
    "\n",
    "my_Agent = ScheduleAgent(\"Pepito\", \"20\", \"Masculino\", taskList, comentarios)"
   ]
  },
  {
   "cell_type": "code",
   "execution_count": 8,
   "id": "852dcd51-c964-4b0b-a4c7-88fa50735715",
   "metadata": {},
   "outputs": [],
   "source": [
    "# Estructura del árbol con el uso de la librería anytree\n",
    "\n",
    "class Task:\n",
    "    def __init__(self, id, name, avgTime, urgency):\n",
    "        self.id=id\n",
    "        self.name=name\n",
    "        self.avgTime=avgTime\n",
    "        self.urgency=urgency\n",
    "\n",
    "class TaskClass(Task, NodeMixin):  # Add Node feature\n",
    "    def __init__(self, name, avgTime, urgency, parent=None, children=None):\n",
    "        super(Task, self).__init__()\n",
    "        self.name = name\n",
    "        self.avgTime = avgTime\n",
    "        self.urgency = urgency\n",
    "        self.parent = parent\n",
    "        if children:\n",
    "            self.children = children\n",
    "    def __str__(self):\n",
    "        print (self.name)\n"
   ]
  },
  {
   "cell_type": "code",
   "execution_count": 9,
   "id": "4c0f2b79",
   "metadata": {},
   "outputs": [],
   "source": [
    "def buildTree(taskList:pd.DataFrame) -> TaskClass:\n",
    "    nodeList = []\n",
    "    for i in range(0, len(taskList[\"Name\"])): \n",
    "        nodeList.append(TaskClass(\n",
    "            name = taskList[\"Name\"][i],\n",
    "            avgTime = taskList[\"AvgTime\"][i],\n",
    "            urgency = taskList[\"Urgency\"][i]))\n",
    "        if i > 0:\n",
    "            node = nodeList[i]\n",
    "            node.parent = nodeList[(int(taskList[\"Parent\"][i]))-1]\n",
    "    return nodeList[0] #retorno root del arbol ya que desde root lo puedo recorrer todo"
   ]
  },
  {
   "cell_type": "code",
   "execution_count": 10,
   "id": "fb375522",
   "metadata": {},
   "outputs": [],
   "source": [
    "def printTree(rootNode: TaskClass) -> None:\n",
    "    for pre, fill, node in RenderTree(rootNode):\n",
    "        print(\"%s%s\" % (pre, node.name))\n",
    "    "
   ]
  },
  {
   "cell_type": "code",
   "execution_count": 21,
   "id": "acbb1ddc",
   "metadata": {},
   "outputs": [
    {
     "name": "stdout",
     "output_type": "stream",
     "text": [
      "desayunar\n",
      "├── bañarse\n",
      "│   ├── hacer la tarea\n",
      "│   │   ├── almorzar\n",
      "│   │   └── hacer ejercicio\n",
      "│   └── estudiar para el parcial\n",
      "│       ├── escuchar musica\n",
      "│       └── leer documentacion\n",
      "└── sacar al perro\n",
      "    ├── hacer estiramientos\n",
      "    │   ├── ver netflix\n",
      "    │   └── reunirse con amigos\n",
      "    └── regar plantas\n",
      "        ├── ordenar el cuarto\n",
      "        └── jugar con el perro\n"
     ]
    }
   ],
   "source": [
    "task_df = pd.read_csv('taskList.csv') \n",
    "task_tree = buildTree(task_df)\n",
    "\n",
    "# print(task_df)\n",
    "printTree(task_tree)"
   ]
  },
  {
   "cell_type": "code",
   "execution_count": 66,
   "id": "675c1030",
   "metadata": {},
   "outputs": [
    {
     "name": "stdout",
     "output_type": "stream",
     "text": [
      "task tree: <__main__.TaskClass object at 0x0000023A23993F90>\n",
      "task tree.name: desayunar\n",
      "task tree.children: (<__main__.TaskClass object at 0x0000023A239980D0>, <__main__.TaskClass object at 0x0000023A23992D10>)\n",
      "task tree.children left: <__main__.TaskClass object at 0x0000023A239980D0>\n",
      "task tree.children right: <__main__.TaskClass object at 0x0000023A23992D10>\n",
      "(<__main__.TaskClass object at 0x0000023A239980D0>,\n",
      " <__main__.TaskClass object at 0x0000023A23992D10>)\n",
      "<class 'tuple'>\n",
      "task tree.height: 3\n",
      "task tree.root: <__main__.TaskClass object at 0x0000023A23993F90>\n",
      "task tree.children left name: bañarse\n",
      "task tree.children left name: <__main__.TaskClass object at 0x0000023A2392E1D0>\n"
     ]
    }
   ],
   "source": [
    "# root\n",
    "print(\"task tree: \" + str(task_tree))\n",
    "print(\"task tree.name: \" + task_tree.name)\n",
    "print(\"task tree.children: \" + str(task_tree.children))\n",
    "print(\"task tree.children left: \" + str(task_tree.children[0])) #IZQ\n",
    "print(\"task tree.children right: \" + str(task_tree.children[1])) #DER\n",
    "pp(task_tree.children)\n",
    "print(type(task_tree.children))\n",
    "print(\"task tree.height: \" + str(task_tree.height))\n",
    "print(\"task tree.root: \" + str(task_tree.root))\n",
    "print(\"task tree.children left name: \" + str(task_tree.children[0].name)) #IZQ\n",
    "print(\"task tree.children left name: \" + str(task_tree.children[0].children[0])) #IZQ"
   ]
  },
  {
   "cell_type": "code",
   "execution_count": null,
   "id": "20ca4d7d",
   "metadata": {},
   "outputs": [],
   "source": [
    "#arbol = task_tree\n",
    "\n",
    "class Choice():\n",
    "    def __init__(self, move, value):\n",
    "        self.move = move\n",
    "        self.value = value\n",
    "\n",
    "    def __str__(self):\n",
    "        return self.move + \": \" + str(self.value)\n",
    "\n",
    "# initialize our state\n",
    "current_node = task_tree # iniciamos con la raiz\n",
    "is_max = True\n",
    "\n",
    "def minimax(node, is_max):    \n",
    "    # base case, if no sub nodes, return the value\n",
    "    if (node.left is None and node.right is None):\n",
    "        return Choice(\"end\", node.value)\n",
    "\n",
    "    # if child nodes exist, run minimax on each child nodes\n",
    "    l_choice = minimax(node.left, not is_max)\n",
    "    r_choice = minimax(node.right, not is_max)\n",
    "    \n",
    "    # compare results\n",
    "    if (is_max):\n",
    "        if (l_choice.value > r_choice.value):\n",
    "            return Choice(\"left\", l_choice.value)\n",
    "        else:\n",
    "            return Choice(\"right\", r_choice.value)\n",
    "    else:\n",
    "        if (l_choice.value < r_choice.value):\n",
    "            return Choice(\"left\", l_choice.value)\n",
    "        else:\n",
    "            return Choice(\"right\", r_choice.value)\n",
    "        \n",
    "        \n",
    "# run core programmmm\n",
    "\n",
    "\n",
    "while (True):\n",
    "    # run minimax on current node\n",
    "    choice = minimax(current_node, is_max)\n",
    "    \n",
    "    # make choice based on minimax search\n",
    "    if (choice.move == \"left\"):\n",
    "        print (\"Moving left to node with value \" + str(current_node.left.value))\n",
    "        current_node = current_node.left\n",
    "    elif (choice.move == \"right\"):\n",
    "        print (\"Moving right to node with value \" + str(current_node.right.value))\n",
    "        current_node = current_node.right\n",
    "    elif (choice.move == \"end\"):\n",
    "        print (\"Game ends with a score of \" + str(choice.value))\n",
    "        break"
   ]
  }
 ],
 "metadata": {
  "kernelspec": {
   "display_name": "Python 3",
   "language": "python",
   "name": "python3"
  },
  "language_info": {
   "codemirror_mode": {
    "name": "ipython",
    "version": 3
   },
   "file_extension": ".py",
   "mimetype": "text/x-python",
   "name": "python",
   "nbconvert_exporter": "python",
   "pygments_lexer": "ipython3",
   "version": "3.11.2"
  },
  "vscode": {
   "interpreter": {
    "hash": "26191ae7fd6e347d1981338b93f2dabb077a01af3aa9be830bf3c29ed66a6aff"
   }
  }
 },
 "nbformat": 4,
 "nbformat_minor": 5
}
