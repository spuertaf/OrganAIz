{
 "cells": [
  {
   "cell_type": "markdown",
   "metadata": {
    "id": "Z1wrP8Iq9TOQ"
   },
   "source": [
    "### Instalando las librerias necesarias"
   ]
  },
  {
   "cell_type": "markdown",
   "metadata": {
    "id": "-pplBVgT9X8i"
   },
   "source": [
    "Para la correcta ejecucion del proyecto primero se deberan de instalar las librerias usadas para la implementacion del mismo."
   ]
  },
  {
   "cell_type": "code",
   "execution_count": 1,
   "metadata": {
    "colab": {
     "base_uri": "https://localhost:8080/"
    },
    "executionInfo": {
     "elapsed": 8518,
     "status": "ok",
     "timestamp": 1677379001399,
     "user": {
      "displayName": "Sara Rodríguez",
      "userId": "04692249598525353211"
     },
     "user_tz": 300
    },
    "id": "MkgdK4AP8xfi",
    "outputId": "3d42b0f0-e654-42e0-e995-75aa5b98ef05"
   },
   "outputs": [
    {
     "name": "stdout",
     "output_type": "stream",
     "text": [
      "Requirement already satisfied: anytree in c:\\users\\admin\\appdata\\local\\programs\\python\\python39\\lib\\site-packages (2.8.0)\n",
      "Requirement already satisfied: pandas in c:\\users\\admin\\appdata\\local\\programs\\python\\python39\\lib\\site-packages (1.4.4)\n",
      "Requirement already satisfied: six>=1.9.0 in c:\\users\\admin\\appdata\\local\\programs\\python\\python39\\lib\\site-packages (from anytree) (1.16.0)\n",
      "Requirement already satisfied: numpy>=1.18.5 in c:\\users\\admin\\appdata\\local\\programs\\python\\python39\\lib\\site-packages (from pandas) (1.20.3)\n",
      "Requirement already satisfied: pytz>=2020.1 in c:\\users\\admin\\appdata\\local\\programs\\python\\python39\\lib\\site-packages (from pandas) (2022.2.1)\n",
      "Requirement already satisfied: python-dateutil>=2.8.1 in c:\\users\\admin\\appdata\\local\\programs\\python\\python39\\lib\\site-packages (from pandas) (2.8.2)\n"
     ]
    },
    {
     "name": "stderr",
     "output_type": "stream",
     "text": [
      "WARNING: You are using pip version 21.1.1; however, version 23.0.1 is available.\n",
      "You should consider upgrading via the 'c:\\users\\admin\\appdata\\local\\programs\\python\\python39\\python.exe -m pip install --upgrade pip' command.\n"
     ]
    },
    {
     "name": "stdout",
     "output_type": "stream",
     "text": [
      "Collecting pytholog\n",
      "  Downloading pytholog-2.4.1-py3-none-any.whl (16 kB)\n",
      "Collecting more-itertools\n",
      "  Downloading more_itertools-9.1.0-py3-none-any.whl (54 kB)\n",
      "Installing collected packages: more-itertools, pytholog\n",
      "Successfully installed more-itertools-9.1.0 pytholog-2.4.1\n"
     ]
    },
    {
     "name": "stderr",
     "output_type": "stream",
     "text": [
      "WARNING: You are using pip version 21.1.1; however, version 23.0.1 is available.\n",
      "You should consider upgrading via the 'c:\\users\\admin\\appdata\\local\\programs\\python\\python39\\python.exe -m pip install --upgrade pip' command.\n",
      "\"apt\" no se reconoce como un comando interno o externo,\n",
      "programa o archivo por lotes ejecutable.\n"
     ]
    }
   ],
   "source": [
    "!pip install anytree pandas\n",
    "!pip install pytholog\n",
    "!apt install swi-prolog\n"
   ]
  },
  {
   "cell_type": "markdown",
   "metadata": {
    "id": "ijVHOov1-E41"
   },
   "source": [
    "### Implementacion del agente"
   ]
  },
  {
   "cell_type": "code",
   "execution_count": 2,
   "metadata": {
    "id": "kFznCT_Q-I7f"
   },
   "outputs": [],
   "source": [
    "import numpy as np\n",
    "import pandas as pd\n",
    "from anytree import NodeMixin, RenderTree\n",
    "import pytholog as pl \n",
    "#from pyswip import Prolog"
   ]
  },
  {
   "cell_type": "code",
   "execution_count": 3,
   "metadata": {
    "id": "innpDOYZ-ROX"
   },
   "outputs": [],
   "source": [
    "class Task:\n",
    "    def __init__(self, id, taskType, name, avgTime, timeStart, deadline, urgency, location, isHobby, recurrency, bestOn, involves):\n",
    "        self.id=id\n",
    "        self.taskType=taskType\n",
    "        self.name=name\n",
    "        self.avgTime=avgTime\n",
    "        self.timeStart=timeStart\n",
    "        self.deadline=deadline\n",
    "        self.location=location\n",
    "        self.urgency=urgency\n",
    "        self.isHobby=isHobby\n",
    "        self.recurrency=recurrency\n",
    "        self.bestOn=bestOn\n",
    "        self.involves=involves\n",
    "    \n",
    "    def __str__(self) -> str:\n",
    "        \"\"\"\n",
    "        To String del objeto Task. \n",
    "        Llevar los atributos del objeto a una forma legible a la\n",
    "        hora de imprimir el objeto.\n",
    "\n",
    "        Args:\n",
    "            self (Task): Instancia de la clase Task.\n",
    "        \n",
    "        Returns:\n",
    "            str: Representacion como texto del objeto Task.\n",
    "        \"\"\"\n",
    "        return f\"Name: {self.name}, AvgTime: {self.avgTime}, Urgency: {self.urgency}\"\n",
    "\n",
    "\n",
    "\n",
    "class TaskClass(Task, NodeMixin):  # Add Node feature\n",
    "    def __init__(self,taskType, name,  avgTime, timeStart, deadline, urgency, location, isHobby, recurrency, bestOn, involves, parent=None, children=None):\n",
    "        super(Task, self).__init__()\n",
    "        self.taskType=taskType\n",
    "        self.name = name\n",
    "        self.avgTime = avgTime\n",
    "        self.timeStart=timeStart\n",
    "        self.deadline=deadline\n",
    "        self.location=location\n",
    "        self.urgency=urgency\n",
    "        self.isHobby=isHobby\n",
    "        self.recurrency=recurrency\n",
    "        self.bestOn=bestOn\n",
    "        self.involves=involves\n",
    "        self.parent = parent\n",
    "        if children:\n",
    "            self.children = children"
   ]
  },
  {
   "cell_type": "code",
   "execution_count": 4,
   "metadata": {
    "id": "ymk3FGdS-Xma"
   },
   "outputs": [],
   "source": [
    "class Choice():\n",
    "    def __init__(self, move, urgency):\n",
    "        self.move = move\n",
    "        self.urgency = urgency\n",
    "\n",
    "\n",
    "\n",
    "    def __str__(self):\n",
    "        \"\"\"\n",
    "        To String del objeto Choice. \n",
    "        Llevar los atributos del objeto a una forma legible a la\n",
    "        hora de imprimir el objeto.\n",
    "\n",
    "        Args:\n",
    "            self (Choice): Instancia de la clase Choice.\n",
    "        \n",
    "        Returns:\n",
    "            str: Representacion como texto del objeto Choice.\n",
    "        \"\"\"\n",
    "        return self.move + \": \" + str(self.urgency)\n",
    "    "
   ]
  },
  {
   "cell_type": "code",
   "execution_count": 5,
   "metadata": {
    "id": "6V5pQdxa-avj"
   },
   "outputs": [],
   "source": [
    "#definamos la estructura más básica de nuestro agente\n",
    "#la cual podrá ir creciendo según se definan nuevas características\n",
    "\n",
    "\n",
    "class ScheduleAgent:\n",
    "  def __init__(self, name:str, age:int, gender:str, taskList:pd.DataFrame, comments):\n",
    "    self.name = name\n",
    "    self.age = age\n",
    "    self.gender = gender\n",
    "    self.taskList = taskList\n",
    "    self.notification = comments\n",
    "    self.comments = comments\n",
    "    self.rootNode = self.buildTree() #creo el arbol al inicializar el objeto\n",
    "    \n",
    "    \n",
    "  \n",
    "  def getNodesList(self) -> list:\n",
    "    \"\"\"\n",
    "    Crear una lista de nodos del arbol de tareas de acuerdo a las\n",
    "    tareas almacenadas en un archivo CSV.\n",
    "\n",
    "    Args:\n",
    "        self (ScheduleAgent): Instancia de la clase ScheduleAgent.\n",
    "\n",
    "    Returns:\n",
    "        list: Lista de nodos del arbol de tareas, cada nodo representa una tarea.\n",
    "    \"\"\"\n",
    "\n",
    "# TaskID,TaskType,Name,AvgTime,TimeStart,Deadline,Urgency,location,isHobby,recurrency,bestOn,involves,Parent,Children\n",
    "\n",
    "    nodeList = []\n",
    "    for i in range(0, len(self.taskList[\"Name\"])):\n",
    "        nodeList.append(TaskClass(\n",
    "            taskType = self.taskList[\"TaskType\"][i],\n",
    "            name = self.taskList[\"Name\"][i],\n",
    "            avgTime = self.taskList[\"AvgTime\"][i],\n",
    "            timeStart = self.taskList[\"TimeStart\"][i],\n",
    "            deadline = self.taskList[\"Deadline\"][i],\n",
    "            urgency = self.taskList[\"Urgency\"][i],\n",
    "            location = self.taskList[\"Location\"][i],\n",
    "            isHobby = self.taskList[\"IsHobby\"][i],\n",
    "            recurrency = self.taskList[\"Recurrency\"][i],\n",
    "            bestOn = self.taskList[\"BestOn\"][i],\n",
    "            involves = self.taskList[\"Involves\"][i],\n",
    "        ))\n",
    "    return nodeList\n",
    "  \n",
    "  \n",
    "  \n",
    "  def setParentNodes(self, nodeList:list) -> TaskClass:\n",
    "    \"\"\"\n",
    "    Colocar a cada uno de los nodos del arbol de tareas su respectivo nodo padre.\n",
    "\n",
    "    Args:\n",
    "        self (ScheduleAgent): Instancia de la clase ScheduleAgent.\n",
    "        nodeList (list): Lista de nodos del arbol de tareas, cada nodo representa una tarea.\n",
    "\n",
    "    Returns:\n",
    "        TaskClass: Nodo raiz del arbol de tareas, desde el nodo raiz se puede recorrer la totalidad del arbol.\n",
    "    \"\"\"\n",
    "    for i in range(1, len(nodeList)):\n",
    "        node = nodeList[i]\n",
    "        node.parent = nodeList[(int(self.taskList[\"Parent\"][i]))-1]\n",
    "    return nodeList[0] #retorno root del arbol ya que desde root lo puedo recorrer todo\n",
    "\n",
    "  \n",
    "  \n",
    "  def buildTree(self) -> TaskClass: \n",
    "    \"\"\"\n",
    "    Armar el arbol de tareas.\n",
    "    En primera instancia crea una lista de nodos de tareas para \n",
    "    despues asignarles su respectivo nodo padre.\n",
    "\n",
    "    Args:\n",
    "        self (ScheduleAgent): Instancia de la clase ScheduleAgent.\n",
    "\n",
    "    Returns:\n",
    "        TaskClass: Nodo raiz del arbol de tareas, desde el nodo raiz se puede recorrer la totalidad del arbol.\n",
    "    \"\"\"\n",
    "    nodeList = self.getNodesList()\n",
    "    rootNode = self.setParentNodes(nodeList)\n",
    "    return rootNode #retorno root del arbol ya que desde root lo puedo recorrer todo\n",
    "    \n",
    "    \n",
    "    \n",
    "  def printTaskTree(self) -> None:\n",
    "    \"\"\"\n",
    "    Imprimir por completo el arbol de tareas. \n",
    "    \n",
    "    Args:\n",
    "        self (ScheduleAgent): Instancia de la clase ScheduleAgent.\n",
    "    \"\"\"\n",
    "    for pre, fill, node in RenderTree(self.rootNode):\n",
    "        print(\"%s%s\" % (pre, node.name))   \n",
    "  \n",
    "  \n",
    "  \n",
    "  def miniMax(self, rootNode:Task, isMax:bool) -> Choice:\n",
    "    \"\"\"\n",
    "    Algoritmo de busqueda miniMax para determinar la mayor cantidad de tareas de la mayor urgencia posible\n",
    "    a completar en el minimo tiempo posible.\n",
    "\n",
    "    Args:\n",
    "        self (ScheduleAgent): Instancia de la clase ScheduleAgent.\n",
    "        rootNode (Task): Nodo raiz del arbol de tareas, desde el nodo raiz se puede recorrer la totalidad del arbol.\n",
    "        isMax (bool): ?\n",
    "\n",
    "    Returns:\n",
    "        Choice: Eleccion de rama y nodo del algortimo miniMax\n",
    "    \"\"\"\n",
    "    children = rootNode.children\n",
    "    try:\n",
    "        l_choice = self.miniMax(children[0], not isMax)\n",
    "        r_choice = self.miniMax(children[1], not isMax)\n",
    "\n",
    "        if (isMax):\n",
    "            if (l_choice.urgency > r_choice.urgency):\n",
    "                return Choice(\"left\", l_choice.urgency)\n",
    "            else:\n",
    "                return Choice(\"right\", r_choice.urgency)\n",
    "        else:\n",
    "            if (l_choice.urgency < r_choice.urgency):\n",
    "                return Choice(\"left\", l_choice.urgency)\n",
    "            else:\n",
    "                return Choice(\"right\", r_choice.urgency) \n",
    "    except IndexError:\n",
    "        return Choice(\"end\", self.rootNode.urgency)"
   ]
  },
  {
   "cell_type": "code",
   "execution_count": 6,
   "metadata": {
    "colab": {
     "base_uri": "https://localhost:8080/"
    },
    "executionInfo": {
     "elapsed": 192,
     "status": "ok",
     "timestamp": 1677380547834,
     "user": {
      "displayName": "Sara Rodríguez",
      "userId": "04692249598525353211"
     },
     "user_tz": 300
    },
    "id": "43pTj0U4-jQe",
    "outputId": "010332e2-1876-4c07-ff69-ce7d15d6e5f5"
   },
   "outputs": [
    {
     "name": "stdout",
     "output_type": "stream",
     "text": [
      "Comenzamos nuestro recorrido en el nodo: desayunar, con una urgencia de: 5\n",
      "Nos movemos a la derecha con una urgencia de: 5, a la tarea: sacar al perro\n",
      "Nos movemos a la derecha con una urgencia de: 7, a la tarea: regar plantas\n",
      "Nos movemos a la derecha con una urgencia de: 6, a la tarea: jugar con el perro\n",
      "Hemos llegado al final del mejor recorrido\n"
     ]
    }
   ],
   "source": [
    "#inicializando el agente para el usuario Ricardo\n",
    "myAgent = ScheduleAgent(name=\"Ricardo\",\n",
    "                        age=36,\n",
    "                        gender=\"Male\",\n",
    "                        taskList=pd.read_csv('taskList.csv'),\n",
    "                        comments = \"\")\n",
    "\n",
    "isMax = True\n",
    "currentNode = myAgent.rootNode\n",
    "\n",
    "print(\"Comenzamos nuestro recorrido en el nodo: \"+str(currentNode.name)+\", con una urgencia de: \"+str(currentNode.urgency))\n",
    "\n",
    "while (True):\n",
    "    # run minimax on current node\n",
    "    agentChoice = myAgent.miniMax(currentNode, isMax) \n",
    "    \n",
    "    # make choice based on minimax search\n",
    "    if (agentChoice.move == \"left\"):\n",
    "        print (\"Nos movemos a la izquierda con una urgencia de: \" + str(currentNode.children[0].urgency)+ \", a la tarea: \"+str(currentNode.children[0].name))\n",
    "        currentNode = currentNode.children[0]\n",
    "    elif (agentChoice.move == \"right\"):\n",
    "        print (\"Nos movemos a la derecha con una urgencia de: \" + str(currentNode.children[1].urgency)+ \", a la tarea: \"+str(currentNode.children[1].name))\n",
    "        currentNode = currentNode.children[1]\n",
    "    elif (agentChoice.move == \"end\"):\n",
    "        print (\"Hemos llegado al final del mejor recorrido\")\n",
    "        break"
   ]
  },
  {
   "cell_type": "code",
   "execution_count": 7,
   "metadata": {},
   "outputs": [],
   "source": [
    "# PARA ORGANIZAR LAS TAREAS SEGUN SUS ATRIBUTOS.\n",
    "\n",
    "dictTasks = {}\n",
    "dictHobbies = {}\n",
    "dictHabits = {}"
   ]
  },
  {
   "cell_type": "code",
   "execution_count": 8,
   "metadata": {},
   "outputs": [],
   "source": [
    "# LISTAR INFORMACION\n",
    "\n",
    "def listName(data):\n",
    "  list = []\n",
    "  for key, value in data.items():\n",
    "    temp = key\n",
    "    list.append(temp)\n",
    "  return list\n",
    "\n",
    "def listIsHabit(data):\n",
    "  list = []\n",
    "  for key, value in data.items():\n",
    "    temp = value[\"isHabit\"]\n",
    "    list.append(temp)\n",
    "  return list\n",
    "\n",
    "def listIsHobby(data):\n",
    "  list = []\n",
    "  for key, value in data.items():\n",
    "    temp = value[\"isHobby\"]\n",
    "    list.append(temp)\n",
    "  return list\n",
    "\n",
    "\n",
    "listaHobbies = listIsHobby(dictHobbies)\n",
    "listaHbitos = listIsHabit(dictHabits)"
   ]
  },
  {
   "cell_type": "code",
   "execution_count": 11,
   "metadata": {},
   "outputs": [
    {
     "name": "stdout",
     "output_type": "stream",
     "text": [
      "['isTask(X)', 'isHobby(X,Y):- isTask(X), Y=True', 'isHabit(X,Y):- isTask(X), Y>5', 'isHabit(X,Y):- isTask(X), Y>5', 'userSchedule(X):- isTask(X), isHobby(X), isHabit(X)', 'builBaseConfiguration(X):- userSchedule(X)', 'patternIdentifier(X):- userSchedule(X), buildBaseConfiguration(X)', 'suggestedActivities(X,Y):- isHabit(X) => 3, patternIdentifier(X)']\n"
     ]
    }
   ],
   "source": [
    "global KB \n",
    "KB = pl.KnowledgeBase(\"tasks\")\n",
    "\n",
    "def baseConocimiento():\n",
    "  facts = []\n",
    "  \n",
    "  #rules\n",
    "  facts.append(\"isTask(X)\")\n",
    "  facts.append(\"isHobby(X,Y):- isTask(X), Y=True\")\n",
    "  facts.append(\"isHabit(X,Y):- isTask(X), Y>5\")\n",
    "  facts.append(\"isHabit(X,Y):- isTask(X), Y>5\") \n",
    "  facts.append(\"userSchedule(X):- isTask(X), isHobby(X), isHabit(X)\") \n",
    "  facts.append(\"builBaseConfiguration(X):- userSchedule(X)\") \n",
    "  facts.append(\"patternIdentifier(X):- userSchedule(X), buildBaseConfiguration(X)\") \n",
    "  facts.append(\"suggestedActivities(X,Y):- isHabit(X) => 3, patternIdentifier(X)\")\n",
    "  # REFERENTES\n",
    "  #facts.append(\"hayProducto(X):- hay(X, Y), Y > 0\")\n",
    "  #facts.append(\"alertaProducto(X):- hay(X, Y), Y  <= 6\")\n",
    "  #facts.append(\"faltaProducto(X):- hay(X, Y), Y  < 1\")\n",
    "  #facts.append(\"vendio(X,Y,Z):- vende(X,Y,Z), vendedor(X)\")\n",
    "  #facts.append(\"premiarVendedor(X):- vendedor(X), recompensa(X,Y), Y >= 15\")\n",
    "  #facts.append(\"castigarVendedor(X):- recompensa(X,Y), vendedor(X), Y <= 5 \")\n",
    "\n",
    "  #prolog\n",
    "  \n",
    "  KB(facts)\n",
    "  \n",
    "  #query\n",
    "  print(facts)\n",
    "\n",
    "  # REFERENTES\n",
    "  #print(inventary_kb.query(pl.Expr(\"alertaProducto(salsa de tomate)\")))\n",
    "  #print(inventary_kb.query(pl.Expr(\"vendio(tomas, papas, X)\")))\n",
    "  #print(inventary_kb.query(pl.Expr(\"premiarVendedor(X)\")))\n",
    "  #print(inventary_kb.query(pl.Expr(\"castigarVendedor(X)\")))\n",
    "\n",
    "baseConocimiento()\n",
    "  "
   ]
  },
  {
   "cell_type": "code",
   "execution_count": 10,
   "metadata": {},
   "outputs": [
    {
     "name": "stdout",
     "output_type": "stream",
     "text": [
      "Tasks: {'bañarse': <__main__.TaskClass object at 0x000002467A4F8820>, 'hacer la tarea': <__main__.TaskClass object at 0x000002467A4F8880>, 'almorzar': <__main__.TaskClass object at 0x000002467A4F8640>, 'hacer ejercicio': <__main__.TaskClass object at 0x000002467A4F8400>, 'estudiar para el parcial': <__main__.TaskClass object at 0x000002467A4F88B0>, 'escuchar musica': <__main__.TaskClass object at 0x000002467A4F8430>, 'leer documentacion': <__main__.TaskClass object at 0x000002467A4F83A0>, 'sacar al perro': <__main__.TaskClass object at 0x000002467A4F8850>, 'hacer estiramientos': <__main__.TaskClass object at 0x000002467A4F88E0>, 'ver netflix': <__main__.TaskClass object at 0x000002467A4F83D0>, 'reunirse con amigos': <__main__.TaskClass object at 0x000002467A4F85E0>, 'regar plantas': <__main__.TaskClass object at 0x000002467A4F8D60>, 'ordenar el cuarto': <__main__.TaskClass object at 0x000002467A4F8310>, 'jugar con el perro': <__main__.TaskClass object at 0x000002467A4F8280>}\n",
      "Hobbies: {'escuchar musica': <__main__.TaskClass object at 0x000002467A4F8430>, 'ver netflix': <__main__.TaskClass object at 0x000002467A4F83D0>, 'reunirse con amigos': <__main__.TaskClass object at 0x000002467A4F85E0>}\n",
      "Habits: {'bañarse': <__main__.TaskClass object at 0x000002467A4F8820>, 'hacer la tarea': <__main__.TaskClass object at 0x000002467A4F8880>, 'almorzar': <__main__.TaskClass object at 0x000002467A4F8640>, 'hacer ejercicio': <__main__.TaskClass object at 0x000002467A4F8400>, 'sacar al perro': <__main__.TaskClass object at 0x000002467A4F8850>, 'ordenar el cuarto': <__main__.TaskClass object at 0x000002467A4F8310>, 'jugar con el perro': <__main__.TaskClass object at 0x000002467A4F8280>}\n"
     ]
    }
   ],
   "source": [
    "# AÑADIR LAS TAREAS DE LA ESTRUCTURA ANYTREE AL ARCHIVO DE LOGICA DE PROLOG\n",
    "\n",
    "# METODO PARA AÑADIR LOS TASKS\n",
    "def addAllTasks(node):\n",
    "    for node in node.descendants:\n",
    "        if isinstance(node, Task):\n",
    "            dictTasks[node.name] = node\n",
    "\n",
    "\n",
    "# METODO PARA FILTRAR LAS ACTIVIDADES QUE SON HOBBIES\n",
    "def addHobbies(node):\n",
    "    for node in node.descendants:\n",
    "        if isinstance(node, Task):\n",
    "            if node.isHobby == True: \n",
    "                dictHobbies[node.name] = node\n",
    "\n",
    "\n",
    "# METODO PARA FILTRAR LAS ACTIVIDADES QUE SON HABITOS\n",
    "def addHabits(node):\n",
    "    for node in node.descendants:\n",
    "        if isinstance(node, Task):\n",
    "            if node.recurrency >= 5: \n",
    "                dictHabits[node.name] = node\n",
    "\n",
    "addAllTasks(myAgent.rootNode)\n",
    "addHobbies(myAgent.rootNode)\n",
    "addHabits(myAgent.rootNode)\n",
    "print(\"Tasks: \" + str(dictTasks))\n",
    "print(\"Hobbies: \" + str(dictHobbies))\n",
    "print(\"Habits: \" + str(dictHabits))"
   ]
  }
 ],
 "metadata": {
  "colab": {
   "provenance": [
    {
     "file_id": "1Gklu9UiGwWH22zmsq-uqufP0fTrwKri3",
     "timestamp": 1677380597383
    }
   ],
   "toc_visible": true
  },
  "kernelspec": {
   "display_name": "Python 3 (ipykernel)",
   "language": "python",
   "name": "python3"
  },
  "language_info": {
   "codemirror_mode": {
    "name": "ipython",
    "version": 3
   },
   "file_extension": ".py",
   "mimetype": "text/x-python",
   "name": "python",
   "nbconvert_exporter": "python",
   "pygments_lexer": "ipython3",
   "version": "3.9.5"
  },
  "vscode": {
   "interpreter": {
    "hash": "aee8b7b246df8f9039afb4144a1f6fd8d2ca17a180786b69acc140d282b71a49"
   }
  }
 },
 "nbformat": 4,
 "nbformat_minor": 1
}
