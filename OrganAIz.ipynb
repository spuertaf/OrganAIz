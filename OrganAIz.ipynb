{
 "cells": [
  {
   "attachments": {},
   "cell_type": "markdown",
   "id": "821e10ea",
   "metadata": {},
   "source": [
    "### Decripcion del agente"
   ]
  },
  {
   "attachments": {},
   "cell_type": "markdown",
   "id": "e4ebd89e",
   "metadata": {},
   "source": [
    "En esta ocasión desarrollaremos un agente que ayude en la gestión efectiva del tiempo       \n",
    "el mismo, medirá la “productividad” del usuario. Dicha “productividad” corresponde       \n",
    "a la cantidad de tareas realizadas en un tiempo determinado.       \n",
    "A su vez, el agente le recomendara al usuario acciones a tomar para un mayor provecho del tiempo."
   ]
  },
  {
   "attachments": {},
   "cell_type": "markdown",
   "id": "7026bb44",
   "metadata": {},
   "source": [
    "*Librerias a usar para la contruccion del agente*"
   ]
  },
  {
   "attachments": {},
   "cell_type": "markdown",
   "id": "2cadaa2c",
   "metadata": {},
   "source": [
    "Como libería, pensamos utilizar MESA de python puesto que en la descripción de la librería       \n",
    "nos indica que está orientado a horarios de agentes, por lo cual podríamos basarnos       \n",
    "en algunos de los métodos que ya la librería implementa,        \n",
    "sin embargo, es posible que también utilicemos otras liberías como AgentPy       \n",
    "puesto que en Mesa no estará todo lo que necesitamos "
   ]
  },
  {
   "attachments": {},
   "cell_type": "markdown",
   "id": "ef6c1852",
   "metadata": {},
   "source": [
    "### Implementacion del agente"
   ]
  },
  {
   "cell_type": "code",
   "execution_count": 5,
   "id": "83c10654",
   "metadata": {
    "tags": []
   },
   "outputs": [
    {
     "name": "stdout",
     "output_type": "stream",
     "text": [
      "Estas son las importaciones de las librerías orientadas a IA que utilizaremos:\n",
      "mesa, agentpy, ipysimulate\n",
      "Usaremos además otras librerías auxiliares, cómo:\n",
      "numpy, pandas, anytree\n"
     ]
    }
   ],
   "source": [
    "import numpy\n",
    "import mesa\n",
    "import agentpy\n",
    "import ipysimulate\n",
    "import ipywidgets\n",
    "import pandas as pd\n",
    "from anytree import NodeMixin, RenderTree"
   ]
  },
  {
   "cell_type": "code",
   "execution_count": 6,
   "id": "98d75f89",
   "metadata": {},
   "outputs": [],
   "source": [
    "class Task:\n",
    "    def __init__(self, id, name, avgTime, urgency):\n",
    "        self.id=id\n",
    "        self.name=name\n",
    "        self.avgTime=avgTime\n",
    "        self.urgency=urgency\n",
    "    \n",
    "    def __str__(self):\n",
    "        return f\"Name: {self.name}, AvgTime: {self.avgTime}, Urgency: {self.urgency}\"\n",
    "\n",
    "\n",
    "\n",
    "class TaskClass(Task, NodeMixin):  # Add Node feature\n",
    "    def __init__(self, name, avgTime, urgency, parent=None, children=None):\n",
    "        super(Task, self).__init__()\n",
    "        self.name = name\n",
    "        self.avgTime = avgTime\n",
    "        self.urgency = urgency\n",
    "        self.parent = parent\n",
    "        if children:\n",
    "            self.children = children"
   ]
  },
  {
   "cell_type": "code",
   "execution_count": 7,
   "id": "d8958f19",
   "metadata": {},
   "outputs": [],
   "source": [
    "class Choice():\n",
    "    def __init__(self, move, urgency):\n",
    "        self.move = move\n",
    "        self.urgency = urgency\n",
    "\n",
    "    def __str__(self):\n",
    "        return self.move + \": \" + str(self.urgency)"
   ]
  },
  {
   "cell_type": "code",
   "execution_count": 18,
   "id": "765eef36",
   "metadata": {
    "scrolled": true,
    "tags": []
   },
   "outputs": [],
   "source": [
    "#definamos la estructura más básica de nuestro agente\n",
    "#la cual podrá ir creciendo según se definan nuevas características\n",
    "\n",
    "class ScheduleAgent:\n",
    "  def __init__(self, name:str, age:int, gender:str, taskList:pd.DataFrame, comments):\n",
    "    self.name = name\n",
    "    self.age = age\n",
    "    self.gender = gender\n",
    "    self.taskList = taskList\n",
    "    self.notification = comments\n",
    "    self.comments = comments\n",
    "    self.rootNode = self.buildTree() #creo el arbol al inicializar el objeto\n",
    "    \n",
    "    \n",
    "  \n",
    "\n",
    "  def getNodesList(self) -> list:\n",
    "    nodeList = []\n",
    "    for i in range(0, len(self.taskList[\"Name\"])):\n",
    "        nodeList.append(TaskClass(\n",
    "            name = self.taskList[\"Name\"][i],\n",
    "            avgTime = self.taskList[\"AvgTime\"][i],\n",
    "            urgency = self.taskList[\"Urgency\"][i]\n",
    "        ))\n",
    "    return nodeList\n",
    "  \n",
    "  \n",
    "  \n",
    "  def setParentNodes(self, nodeList:list) -> TaskClass:\n",
    "    for i in range(1, len(nodeList)):\n",
    "        node = nodeList[i]\n",
    "        node.parent = nodeList[(int(self.taskList[\"Parent\"][i]))-1]\n",
    "    return nodeList[0] #retorno root del arbol ya que desde root lo puedo recorrer todo\n",
    "\n",
    "  \n",
    "  \n",
    "  def buildTree(self) -> TaskClass: \n",
    "    nodeList = self.getNodesList()\n",
    "    rootNode = self.setParentNodes(nodeList)\n",
    "    return rootNode #retorno root del arbol ya que desde root lo puedo recorrer todo\n",
    "    \n",
    "    \n",
    "    \n",
    "  def printTaskTree(self) -> None:\n",
    "    for pre, fill, node in RenderTree(self.rootNode):\n",
    "        print(\"%s%s\" % (pre, node.name))   \n",
    "  \n",
    "  \n",
    "  \n",
    "  def miniMax(self, rootNode, isMax):\n",
    "    children = rootNode.children\n",
    "    try:\n",
    "        l_choice = self.miniMax(children[0], not isMax)\n",
    "        r_choice = self.miniMax(children[1], not isMax)\n",
    "\n",
    "        if (isMax):\n",
    "            if (l_choice.urgency > r_choice.urgency):\n",
    "                return Choice(\"left\", l_choice.urgency)\n",
    "            else:\n",
    "                return Choice(\"right\", r_choice.urgency)\n",
    "        else:\n",
    "            if (l_choice.urgency < r_choice.urgency):\n",
    "                return Choice(\"left\", l_choice.urgency)\n",
    "            else:\n",
    "                return Choice(\"right\", r_choice.urgency) \n",
    "    except IndexError:\n",
    "        return Choice(\"end\", self.rootNode.urgency)\n",
    "      \n",
    "      "
   ]
  },
  {
   "cell_type": "code",
   "execution_count": 24,
   "id": "757da6ac",
   "metadata": {},
   "outputs": [
    {
     "name": "stdout",
     "output_type": "stream",
     "text": [
      "Nos movemos a la derecha con una urgencia de: 5\n",
      "Nos movemos a la derecha con una urgencia de: 7\n",
      "Nos movemos a la derecha con una urgencia de: 6\n",
      "La urgencia del último nodo hoja es: 5\n"
     ]
    }
   ],
   "source": [
    "#inicializando el agente para el usuario Ricardo\n",
    "myAgent = ScheduleAgent(name = \"Ricardo\", \n",
    "                        age = 36, \n",
    "                        gender = \"Male\", \n",
    "                        taskList = pd.read_csv(\"./taskList.csv\"),\n",
    "                        comments = \"\")\n",
    "\n",
    "isMax = True\n",
    "currentNode = myAgent.rootNode\n",
    "\n",
    "while (True):\n",
    "    # run minimax on current node\n",
    "    agentChoice = myAgent.miniMax(currentNode, isMax) \n",
    "    \n",
    "    # make choice based on minimax search\n",
    "    if (agentChoice.move == \"left\"):\n",
    "        print (\"Nos movemos a la izquierda con una urgencia de: \" + str(currentNode.children[0].urgency))\n",
    "        currentNode = currentNode.children[0]\n",
    "    elif (agentChoice.move == \"right\"):\n",
    "        print (\"Nos movemos a la derecha con una urgencia de: \" + str(currentNode.children[1].urgency))\n",
    "        currentNode = currentNode.children[1]\n",
    "    elif (agentChoice.move == \"end\"):\n",
    "        print (\"La urgencia del último nodo hoja es: \" + str(agentChoice.urgency))\n",
    "        break"
   ]
  }
 ],
 "metadata": {
  "kernelspec": {
   "display_name": "Python 3",
   "language": "python",
   "name": "python3"
  },
  "language_info": {
   "codemirror_mode": {
    "name": "ipython",
    "version": 3
   },
   "file_extension": ".py",
   "mimetype": "text/x-python",
   "name": "python",
   "nbconvert_exporter": "python",
   "pygments_lexer": "ipython3",
   "version": "3.9.5"
  },
  "vscode": {
   "interpreter": {
    "hash": "0d591c6e422414675974e227c13f5382000c440fedd3c5006ef2be5d887f0ba7"
   }
  }
 },
 "nbformat": 4,
 "nbformat_minor": 5
}
