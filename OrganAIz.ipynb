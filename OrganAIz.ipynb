{
 "cells": [
  {
   "cell_type": "code",
   "execution_count": 20,
   "id": "d826cc76",
   "metadata": {},
   "outputs": [
    {
     "name": "stdout",
     "output_type": "stream",
     "text": [
      "En esta ocasión desarrollaremos un agente que ayude en la gestión efectiva del tiempo       \n",
      " el mismo, medirá la “productividad” del usuario. Dicha “productividad” corresponde       \n",
      " a la cantidad de tareas realizadas en un tiempo determinado.       \n",
      " A su vez, el agente le recomendara al usuario acciones a tomar para un mayor provecho del tiempo.\n"
     ]
    }
   ],
   "source": [
    "print(\"En esta ocasión desarrollaremos un agente que ayude en la gestión efectiva del tiempo \\\n",
    "      \\n el mismo, medirá la “productividad” del usuario. Dicha “productividad” corresponde \\\n",
    "      \\n a la cantidad de tareas realizadas en un tiempo determinado. \\\n",
    "      \\n A su vez, el agente le recomendara al usuario acciones a tomar para un mayor provecho del tiempo.\")"
   ]
  },
  {
   "cell_type": "code",
   "execution_count": 21,
   "id": "b0e5c68b",
   "metadata": {},
   "outputs": [
    {
     "name": "stdout",
     "output_type": "stream",
     "text": [
      "Como libería, pensamos utilizar MESA de python puesto que en la descripción de la librería       \n",
      " nos indica que está orientado a horarios de agentes, por lo cual podríamos basarnos       \n",
      " en algunos de los métodos que ya la librería implementa,        \n",
      " sin embargo, es posible que también utilicemos otras liberías como AgentPy       \n",
      " puesto que en Mesa no estará todo lo que necesitamos \n"
     ]
    }
   ],
   "source": [
    "print(\"Como libería, pensamos utilizar MESA de python puesto que en la descripción de la librería \\\n",
    "      \\n nos indica que está orientado a horarios de agentes, por lo cual podríamos basarnos \\\n",
    "      \\n en algunos de los métodos que ya la librería implementa,  \\\n",
    "      \\n sin embargo, es posible que también utilicemos otras liberías como AgentPy \\\n",
    "      \\n puesto que en Mesa no estará todo lo que necesitamos \")"
   ]
  },
  {
   "cell_type": "code",
   "execution_count": 4,
   "id": "83c10654",
   "metadata": {
    "tags": []
   },
   "outputs": [
    {
     "name": "stdout",
     "output_type": "stream",
     "text": [
      "Estas son las importaciones de las librerías que utilizaremos:\n",
      "from mesa import Agent, Model\n",
      "from mesa.time import RandomActivation\n",
      "from mesa.space import MultiGrid\n",
      "import agentpy as ap\n",
      "import ipysimulate as ips\n",
      "from ipywidgets import AppLayout\n",
      "from agentpy.examples import WealthModel, SegregationModel\n"
     ]
    }
   ],
   "source": [
    "print(\"Estas son las importaciones de las librerías que utilizaremos:\")\n",
    "print(\"from mesa import Agent, Model\")\n",
    "print(\"from mesa.time import RandomActivation\")\n",
    "print(\"from mesa.space import MultiGrid\")\n",
    "print(\"import agentpy as ap\")\n",
    "print(\"import ipysimulate as ips\")\n",
    "print(\"from ipywidgets import AppLayout\")\n",
    "print(\"from agentpy.examples import WealthModel, SegregationModel\")\n",
    "\n",
    "import numpy\n",
    "#import mesa\n",
    "import agentpy\n",
    "import ipysimulate\n",
    "import ipywidgets\n",
    "import pandas as pd"
   ]
  },
  {
   "cell_type": "code",
   "execution_count": 6,
   "id": "765eef36",
   "metadata": {
    "scrolled": true,
    "tags": []
   },
   "outputs": [],
   "source": [
    "#definamos la estructura más básica de nuestro agente\n",
    "#la cual podrá ir creciendo según se definan nuevas características\n",
    "\n",
    "class ScheduleAgent:\n",
    "  def __init__(self, name, age, gender, dailyTask, comments):\n",
    "    self.name = name\n",
    "    self.age = age\n",
    "    self.gender = gender\n",
    "    self.dailyTask = dailyTask\n",
    "    self.notification = comments\n",
    "    self.comments = comments\n",
    "\n",
    "taskList = pd.read_csv('taskList.csv')\n",
    "comentarios = \"\"\n",
    "\n",
    "my_Agent = ScheduleAgent(\"Pepito\", \"20\", \"Masculino\", taskList, comentarios)"
   ]
  },
  {
   "cell_type": "code",
   "execution_count": 33,
   "id": "852dcd51-c964-4b0b-a4c7-88fa50735715",
   "metadata": {},
   "outputs": [],
   "source": [
    "# Estructura del árbol con el uso de la librería anytree\n",
    "# pip install anytree\n",
    "\n",
    "from anytree import NodeMixin, RenderTree\n",
    "import pandas as pd\n",
    "\n",
    "class Task:\n",
    "    def __init__(self, id, name, avgTime, urgency):\n",
    "        self.id=id\n",
    "        self.name=name\n",
    "        self.avgTime=avgTime\n",
    "        self.urgency=urgency\n",
    "    \n",
    "    def __str__(self):\n",
    "        return f\"Name: {self.name}, AvgTime: {self.avgTime}, Urgency: {self.urgency}\"\n",
    "\n",
    "class TaskClass(Task, NodeMixin):  # Add Node feature\n",
    "    def __init__(self, name, avgTime, urgency, parent=None, children=None):\n",
    "        super(Task, self).__init__()\n",
    "        self.name = name\n",
    "        self.avgTime = avgTime\n",
    "        self.urgency = urgency\n",
    "        self.parent = parent\n",
    "        if children:\n",
    "            self.children = children"
   ]
  },
  {
   "cell_type": "code",
   "execution_count": 32,
   "id": "4c0f2b79",
   "metadata": {},
   "outputs": [],
   "source": [
    "def getNodesList(taskList:pd.DataFrame) -> list:\n",
    "    nodeList = []\n",
    "    for i in range(0, len(taskList[\"Name\"])):\n",
    "        nodeList.append(TaskClass(\n",
    "            name = taskList[\"Name\"][i],\n",
    "            avgTime = taskList[\"AvgTime\"][i],\n",
    "            urgency = taskList[\"Urgency\"][i]\n",
    "        ))\n",
    "    return nodeList\n",
    "\n",
    "\n",
    "\n",
    "def setParentNodes(taskList:pd.DataFrame, nodeList:list) -> TaskClass:\n",
    "    for i in range(1, len(nodeList)):\n",
    "        node = nodeList[i]\n",
    "        node.parent = nodeList[(int(taskList[\"Parent\"][i]))-1]\n",
    "    return nodeList[0] #retorno root del arbol ya que desde root lo puedo recorrer todo\n",
    "\n",
    "\n",
    "\n",
    "def buildTree(taskList:pd.DataFrame) -> TaskClass: #construccion del arbol por medio de archivo CSV\n",
    "    nodeList = getNodesList(taskList)\n",
    "    rootNode = setParentNodes(taskList, nodeList)\n",
    "    return rootNode"
   ]
  },
  {
   "cell_type": "code",
   "execution_count": 11,
   "id": "fb375522",
   "metadata": {},
   "outputs": [],
   "source": [
    "def printTree(rootNode: TaskClass) -> None:\n",
    "    for pre, fill, node in RenderTree(rootNode):\n",
    "        print(\"%s%s\" % (pre, node.name))    "
   ]
  },
  {
   "cell_type": "code",
   "execution_count": 58,
   "id": "e53e9a7a",
   "metadata": {},
   "outputs": [
    {
     "name": "stdout",
     "output_type": "stream",
     "text": [
      "desayunar\n",
      "├── bañarse\n",
      "│   ├── hacer la tarea\n",
      "│   │   ├── almorzar\n",
      "│   │   └── hacer ejercicio\n",
      "│   └── estudiar para el parcial\n",
      "│       ├── escuchar musica\n",
      "│       └── leer documentacion\n",
      "└── sacar al perro\n",
      "    ├── hacer estiramientos\n",
      "    │   ├── ver netflix\n",
      "    │   └── reunirse con amigos\n",
      "    └── regar plantas\n",
      "        ├── ordenar el cuarto\n",
      "        └── jugar con el perro\n"
     ]
    }
   ],
   "source": [
    "task_df = pd.read_csv('taskList.csv') \n",
    "task_tree = buildTree(task_df)\n",
    "\n",
    "# print(task_df)\n",
    "printTree(task_tree)"
   ]
  },
  {
   "cell_type": "code",
   "execution_count": 60,
   "id": "4d85993f",
   "metadata": {},
   "outputs": [
    {
     "name": "stdout",
     "output_type": "stream",
     "text": [
      "task tree: Name: desayunar, AvgTime: 40, Urgency: 5\n",
      "task tree.name: desayunar\n",
      "task tree.children: (<__main__.TaskClass object at 0x00000195A7EE46D0>, <__main__.TaskClass object at 0x00000195A7EE4340>)\n",
      "task tree.children left: Name: bañarse, AvgTime: 45, Urgency: 2\n",
      "task tree.children right: Name: sacar al perro, AvgTime: 30, Urgency: 5\n",
      "<class 'tuple'>\n",
      "task tree.height: 3\n",
      "task tree.root: Name: desayunar, AvgTime: 40, Urgency: 5\n",
      "task tree.children left name: bañarse\n",
      "task tree.children left name: Name: hacer la tarea, AvgTime: 60, Urgency: 7\n"
     ]
    }
   ],
   "source": [
    "# root\n",
    "print(\"task tree: \" + str(task_tree))\n",
    "print(\"task tree.name: \" + task_tree.name)\n",
    "print(\"task tree.children: \" + str(task_tree.children))\n",
    "print(\"task tree.children left: \" + str(task_tree.children[0])) #IZQ\n",
    "print(\"task tree.children right: \" + str(task_tree.children[1])) #DER\n",
    "#pp(task_tree.children)\n",
    "print(type(task_tree.children))\n",
    "print(\"task tree.height: \" + str(task_tree.height))\n",
    "print(\"task tree.root: \" + str(task_tree.root))\n",
    "print(\"task tree.children left name: \" + str(task_tree.children[0].name)) #IZQ\n",
    "print(\"task tree.children left name: \" + str(task_tree.children[0].children[0])) #IZQ"
   ]
  },
  {
   "cell_type": "code",
   "execution_count": 53,
   "id": "fbd9c5c5",
   "metadata": {},
   "outputs": [],
   "source": [
    "class Choice():\n",
    "    def __init__(self, move, urgency):\n",
    "        self.move = move\n",
    "        self.urgency = urgency\n",
    "\n",
    "    def __str__(self):\n",
    "        return self.move + \": \" + str(self.urgency)\n",
    "\n",
    "\n",
    "\n",
    "def miniMax(rootNode, isMax):\n",
    "    children = rootNode.children\n",
    "    try:\n",
    "        l_choice = miniMax(children[0], not isMax)\n",
    "        r_choice = miniMax(children[1], not isMax)\n",
    "\n",
    "        if (isMax):\n",
    "            if (l_choice.urgency > r_choice.urgency):\n",
    "                return Choice(\"left\", l_choice.urgency)\n",
    "            else:\n",
    "                return Choice(\"right\", r_choice.urgency)\n",
    "        else:\n",
    "            if (l_choice.urgency < r_choice.urgency):\n",
    "                return Choice(\"left\", l_choice.urgency)\n",
    "            else:\n",
    "                return Choice(\"right\", r_choice.urgency) \n",
    "    except IndexError:\n",
    "        return Choice(\"end\", rootNode.urgency)"
   ]
  },
  {
   "cell_type": "code",
   "execution_count": 57,
   "id": "c617ee47",
   "metadata": {},
   "outputs": [
    {
     "name": "stdout",
     "output_type": "stream",
     "text": [
      "right: 4\n"
     ]
    }
   ],
   "source": [
    "rootNode = buildTree(my_Agent.dailyTask) #contruccion del arbol\n",
    "i = 10\n",
    "while (i < 10):\n",
    "    choice = miniMax(rootNode, True)\n",
    "print(choice)\n"
   ]
  },
  {
   "cell_type": "code",
   "execution_count": 25,
   "id": "f95c16d3-7b24-48ab-811b-f136720b91b2",
   "metadata": {},
   "outputs": [
    {
     "ename": "NameError",
     "evalue": "name 'body2_1' is not defined",
     "output_type": "error",
     "traceback": [
      "\u001b[1;31m---------------------------------------------------------------------------\u001b[0m",
      "\u001b[1;31mNameError\u001b[0m                                 Traceback (most recent call last)",
      "\u001b[1;32m~\\AppData\\Local\\Temp\\ipykernel_31136\\506809747.py\u001b[0m in \u001b[0;36m<module>\u001b[1;34m\u001b[0m\n\u001b[0;32m     18\u001b[0m \u001b[1;31m# root\u001b[0m\u001b[1;33m\u001b[0m\u001b[1;33m\u001b[0m\u001b[0m\n\u001b[0;32m     19\u001b[0m \u001b[0mroot\u001b[0m \u001b[1;33m=\u001b[0m \u001b[0mNode\u001b[0m\u001b[1;33m(\u001b[0m\u001b[1;32mNone\u001b[0m\u001b[1;33m)\u001b[0m\u001b[1;33m\u001b[0m\u001b[1;33m\u001b[0m\u001b[0m\n\u001b[1;32m---> 20\u001b[1;33m \u001b[0mroot\u001b[0m\u001b[1;33m.\u001b[0m\u001b[0mleft\u001b[0m \u001b[1;33m=\u001b[0m \u001b[0mbody2_1\u001b[0m\u001b[1;33m\u001b[0m\u001b[1;33m\u001b[0m\u001b[0m\n\u001b[0m\u001b[0;32m     21\u001b[0m \u001b[0mroot\u001b[0m\u001b[1;33m.\u001b[0m\u001b[0mright\u001b[0m \u001b[1;33m=\u001b[0m \u001b[0mbody2_2\u001b[0m\u001b[1;33m\u001b[0m\u001b[1;33m\u001b[0m\u001b[0m\n\u001b[0;32m     22\u001b[0m \u001b[1;33m\u001b[0m\u001b[0m\n",
      "\u001b[1;31mNameError\u001b[0m: name 'body2_1' is not defined"
     ]
    }
   ],
   "source": [
    "# metodo 2 de grafos \"hechos a mano\"\n",
    "# No haremos el árbol así pero si el minmax, hay que adaptar el mixmax al uso del otro árbol, el árbol de anytree\n",
    "\n",
    "class Node():\n",
    "    def __init__(self, value):\n",
    "        self.value = value\n",
    "        self.left = None\n",
    "        self.right = None\n",
    "\n",
    "    def __str__(self):\n",
    "        return \n",
    "        \n",
    "class Choice():\n",
    "    def __init__(self, move, value):\n",
    "        self.move = move\n",
    "        self.value = value\n",
    "\n",
    "    def __str__(self):\n",
    "        return self.move + \": \" + str(self.value)\n",
    "    \n",
    "# root\n",
    "root = Node(None)\n",
    "root.left = body2_1\n",
    "root.right = body2_2\n",
    "\n",
    "# 2nd layer\n",
    "body2_1 = Node(-2)\n",
    "body2_1.left = body3_1\n",
    "body2_1.right = body3_2\n",
    "\n",
    "body2_2 = Node(10)\n",
    "body2_2.left = body3_3\n",
    "\n",
    "# 3rd layer\n",
    "body3_1 = Node(3)\n",
    "body3_1.left = leaf1\n",
    "body3_1.right = leaf2\n",
    "\n",
    "body3_2 = Node(20)\n",
    "body3_2.left = leaf3\n",
    "body3_2.right = leaf4\n",
    "\n",
    "body3_3 = Node(-8)\n",
    "body3_3.left = leaf5\n",
    "body3_3.right = leaf6\n",
    "\n",
    "\n",
    "# 4th layer\n",
    "leaf1 = Node(-8)\n",
    "leaf2 = Node(7)\n",
    "leaf3 = Node(15)\n",
    "leaf4 = Node(14)\n",
    "leaf5 = Node(8)\n",
    "leaf6 = Node(-5)\n",
    "\n",
    "\n",
    "def minimax(node, is_max):    \n",
    "    # base case, if no sub nodes, return the value\n",
    "    try:\n",
    "\n",
    "        # if child nodes exist, run minimax on each child nodes\n",
    "        l_choice = minimax(node.left, not is_max)\n",
    "        r_choice = minimax(node.right, not is_max)\n",
    "        \n",
    "        # compare results\n",
    "        if (is_max):\n",
    "            if (l_choice.value > r_choice.value):\n",
    "                return Choice(\"left\", l_choice.value)\n",
    "            else:\n",
    "                return Choice(\"right\", r_choice.value)\n",
    "        else:\n",
    "            if (l_choice.value < r_choice.value):\n",
    "                return Choice(\"left\", l_choice.value)\n",
    "            else:\n",
    "                return Choice(\"right\", r_choice.value)\n",
    "        \n",
    "        \n",
    "# run core programmmm\n",
    "\n",
    "# initialize our state\n",
    "current_node = root\n",
    "is_max = True\n",
    "\n",
    "\n",
    "while (True):\n",
    "    # run minimax on current node\n",
    "    choice = minimax(current_node, is_max)\n",
    "    \n",
    "    # make choice based on minimax search\n",
    "    if (choice.move == \"left\"):\n",
    "        print (\"Moving left to node with value \" + str(current_node.left.value))\n",
    "        current_node = current_node.left\n",
    "    elif (choice.move == \"right\"):\n",
    "        print (\"Moving right to node with value \" + str(current_node.right.value))\n",
    "        current_node = current_node.right\n",
    "    elif (choice.move == \"end\"):\n",
    "        print (\"Game ends with a score of \" + str(choice.value))\n",
    "        break\n",
    "    \n",
    "    \n"
   ]
  },
  {
   "cell_type": "code",
   "execution_count": null,
   "id": "20ca4d7d",
   "metadata": {},
   "outputs": [],
   "source": []
  }
 ],
 "metadata": {
  "kernelspec": {
   "display_name": "Python 3",
   "language": "python",
   "name": "python3"
  },
  "language_info": {
   "codemirror_mode": {
    "name": "ipython",
    "version": 3
   },
   "file_extension": ".py",
   "mimetype": "text/x-python",
   "name": "python",
   "nbconvert_exporter": "python",
   "pygments_lexer": "ipython3",
   "version": "3.9.13"
  },
  "vscode": {
   "interpreter": {
    "hash": "4b5f06bd50d7817547348b63c182d0d1cbac86248b3a5b27901e5974acced38f"
   }
  }
 },
 "nbformat": 4,
 "nbformat_minor": 5
}
